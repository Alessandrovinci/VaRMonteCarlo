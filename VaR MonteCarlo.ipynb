{
 "cells": [
  {
   "cell_type": "code",
   "execution_count": 1,
   "metadata": {},
   "outputs": [],
   "source": [
    "import numpy as np\n",
    "import pandas as pd\n",
    "import datetime as dt\n",
    "import matplotlib.pyplot as plt\n",
    "\n",
    "import yfinance as yf"
   ]
  },
  {
   "cell_type": "code",
   "execution_count": 2,
   "metadata": {},
   "outputs": [],
   "source": [
    "# set up the perimeter\n",
    "endDate = dt.datetime.now()\n",
    "startDate = endDate - dt.timedelta(days = 365 * 5)\n",
    "\n",
    "# list of tickers\n",
    "tickers = ['C','AAPL','TSLA','NVDA','SPY']"
   ]
  },
  {
   "cell_type": "code",
   "execution_count": 4,
   "metadata": {},
   "outputs": [
    {
     "name": "stderr",
     "output_type": "stream",
     "text": [
      "[*********************100%%**********************]  1 of 1 completed\n",
      "[*********************100%%**********************]  1 of 1 completed\n",
      "[*********************100%%**********************]  1 of 1 completed\n",
      "[*********************100%%**********************]  1 of 1 completed\n",
      "[*********************100%%**********************]  1 of 1 completed\n"
     ]
    },
    {
     "data": {
      "text/html": [
       "<div>\n",
       "<style scoped>\n",
       "    .dataframe tbody tr th:only-of-type {\n",
       "        vertical-align: middle;\n",
       "    }\n",
       "\n",
       "    .dataframe tbody tr th {\n",
       "        vertical-align: top;\n",
       "    }\n",
       "\n",
       "    .dataframe thead th {\n",
       "        text-align: right;\n",
       "    }\n",
       "</style>\n",
       "<table border=\"1\" class=\"dataframe\">\n",
       "  <thead>\n",
       "    <tr style=\"text-align: right;\">\n",
       "      <th></th>\n",
       "      <th>C</th>\n",
       "      <th>AAPL</th>\n",
       "      <th>TSLA</th>\n",
       "      <th>NVDA</th>\n",
       "      <th>SPY</th>\n",
       "    </tr>\n",
       "    <tr>\n",
       "      <th>Date</th>\n",
       "      <th></th>\n",
       "      <th></th>\n",
       "      <th></th>\n",
       "      <th></th>\n",
       "      <th></th>\n",
       "    </tr>\n",
       "  </thead>\n",
       "  <tbody>\n",
       "    <tr>\n",
       "      <th>2020-02-06</th>\n",
       "      <td>0.001520</td>\n",
       "      <td>0.011629</td>\n",
       "      <td>0.019223</td>\n",
       "      <td>0.013822</td>\n",
       "      <td>0.003359</td>\n",
       "    </tr>\n",
       "    <tr>\n",
       "      <th>2020-02-07</th>\n",
       "      <td>-0.003552</td>\n",
       "      <td>-0.013686</td>\n",
       "      <td>-0.001189</td>\n",
       "      <td>-0.010518</td>\n",
       "      <td>-0.005344</td>\n",
       "    </tr>\n",
       "    <tr>\n",
       "      <th>2020-02-10</th>\n",
       "      <td>-0.002672</td>\n",
       "      <td>0.004738</td>\n",
       "      <td>0.030555</td>\n",
       "      <td>0.044239</td>\n",
       "      <td>0.007437</td>\n",
       "    </tr>\n",
       "    <tr>\n",
       "      <th>2020-02-11</th>\n",
       "      <td>0.007743</td>\n",
       "      <td>-0.006051</td>\n",
       "      <td>0.004011</td>\n",
       "      <td>0.018536</td>\n",
       "      <td>0.001732</td>\n",
       "    </tr>\n",
       "    <tr>\n",
       "      <th>2020-02-12</th>\n",
       "      <td>0.003030</td>\n",
       "      <td>0.023470</td>\n",
       "      <td>-0.009198</td>\n",
       "      <td>0.017209</td>\n",
       "      <td>0.006422</td>\n",
       "    </tr>\n",
       "    <tr>\n",
       "      <th>...</th>\n",
       "      <td>...</td>\n",
       "      <td>...</td>\n",
       "      <td>...</td>\n",
       "      <td>...</td>\n",
       "      <td>...</td>\n",
       "    </tr>\n",
       "    <tr>\n",
       "      <th>2025-01-27</th>\n",
       "      <td>-0.005045</td>\n",
       "      <td>0.031286</td>\n",
       "      <td>-0.023467</td>\n",
       "      <td>-0.185946</td>\n",
       "      <td>-0.014246</td>\n",
       "    </tr>\n",
       "    <tr>\n",
       "      <th>2025-01-28</th>\n",
       "      <td>-0.014037</td>\n",
       "      <td>0.035892</td>\n",
       "      <td>0.002364</td>\n",
       "      <td>0.085497</td>\n",
       "      <td>0.008556</td>\n",
       "    </tr>\n",
       "    <tr>\n",
       "      <th>2025-01-29</th>\n",
       "      <td>0.008594</td>\n",
       "      <td>0.004606</td>\n",
       "      <td>-0.022842</td>\n",
       "      <td>-0.041876</td>\n",
       "      <td>-0.004493</td>\n",
       "    </tr>\n",
       "    <tr>\n",
       "      <th>2025-01-30</th>\n",
       "      <td>0.015140</td>\n",
       "      <td>-0.007422</td>\n",
       "      <td>0.028328</td>\n",
       "      <td>0.007651</td>\n",
       "      <td>0.005353</td>\n",
       "    </tr>\n",
       "    <tr>\n",
       "      <th>2025-01-31</th>\n",
       "      <td>-0.005267</td>\n",
       "      <td>-0.006715</td>\n",
       "      <td>0.010735</td>\n",
       "      <td>-0.037435</td>\n",
       "      <td>-0.005336</td>\n",
       "    </tr>\n",
       "  </tbody>\n",
       "</table>\n",
       "<p>1254 rows × 5 columns</p>\n",
       "</div>"
      ],
      "text/plain": [
       "                   C      AAPL      TSLA      NVDA       SPY\n",
       "Date                                                        \n",
       "2020-02-06  0.001520  0.011629  0.019223  0.013822  0.003359\n",
       "2020-02-07 -0.003552 -0.013686 -0.001189 -0.010518 -0.005344\n",
       "2020-02-10 -0.002672  0.004738  0.030555  0.044239  0.007437\n",
       "2020-02-11  0.007743 -0.006051  0.004011  0.018536  0.001732\n",
       "2020-02-12  0.003030  0.023470 -0.009198  0.017209  0.006422\n",
       "...              ...       ...       ...       ...       ...\n",
       "2025-01-27 -0.005045  0.031286 -0.023467 -0.185946 -0.014246\n",
       "2025-01-28 -0.014037  0.035892  0.002364  0.085497  0.008556\n",
       "2025-01-29  0.008594  0.004606 -0.022842 -0.041876 -0.004493\n",
       "2025-01-30  0.015140 -0.007422  0.028328  0.007651  0.005353\n",
       "2025-01-31 -0.005267 -0.006715  0.010735 -0.037435 -0.005336\n",
       "\n",
       "[1254 rows x 5 columns]"
      ]
     },
     "execution_count": 4,
     "metadata": {},
     "output_type": "execute_result"
    }
   ],
   "source": [
    "# Download the daily adjusted close prices for the tickers\n",
    "adj_close_df = pd.DataFrame()\n",
    "for ticker in tickers:\n",
    "    data = yf.download(ticker, start = startDate, end = endDate)\n",
    "    adj_close_df[ticker] = data['Adj Close']\n",
    "\n",
    "#  Calculate the daily log returns \n",
    "returns = np.log(adj_close_df/adj_close_df.shift(1))\n",
    "# drop NaN\n",
    "returns  = returns.dropna()\n",
    "returns"
   ]
  },
  {
   "cell_type": "code",
   "execution_count": 7,
   "metadata": {},
   "outputs": [],
   "source": [
    "### a 10,000,000 $ portfolio and set up random weights\n",
    "portfolio_value = 10000000 # 10M\n",
    "weights = np.array([np.random.rand() for i in range(5)])\n",
    "\n",
    "# compute the portfolio expected returns as a simple historic average (to make it simple)\n",
    "def expected_returns(returns, weights):\n",
    "    return np.sum(returns.mean()*weights)\n",
    "\n",
    "portfolio_expected_return = expected_returns(returns, weights)\n",
    "\n",
    "\n",
    "# compute the portfolio risk as a function of the tickers' variance and correlation (covariance)\n",
    "def standard_deviation(returns, weights):\n",
    "    cov = returns.cov()\n",
    "    return np.sqrt( weights.T @ cov @ weights )\n",
    "\n",
    "portfolio_std_dev = standard_deviation(returns, weights)"
   ]
  },
  {
   "cell_type": "code",
   "execution_count": 9,
   "metadata": {},
   "outputs": [],
   "source": [
    "days = 30\n",
    "def Expected_Gains_Losses(PortfolioValue, portfolio_expected_return, portfolio_std_dev, days):\n",
    "    Wiener_random_term = np.random.normal(0, 1)\n",
    "    return PortfolioValue * portfolio_expected_return * days + PortfolioValue * portfolio_std_dev * Wiener_random_term * np.sqrt(days)"
   ]
  },
  {
   "cell_type": "code",
   "execution_count": 10,
   "metadata": {},
   "outputs": [],
   "source": [
    "# Run 10000 simulations\n",
    "potentialReturns = []\n",
    "\n",
    "for i in range(10000):\n",
    "    potentialReturns.append(Expected_Gains_Losses(portfolio_value, portfolio_expected_return, portfolio_std_dev, days))"
   ]
  },
  {
   "cell_type": "code",
   "execution_count": 12,
   "metadata": {},
   "outputs": [
    {
     "name": "stdout",
     "output_type": "stream",
     "text": [
      "5287937.50180992\n"
     ]
    }
   ],
   "source": [
    "### Specify a confidence interval and calculate the Value at Risk (VaR)\n",
    "confidence_interval = 0.98\n",
    "VaR = -np.percentile(potentialReturns, 100 * (1 - confidence_interval))\n",
    "print(VaR)"
   ]
  },
  {
   "cell_type": "code",
   "execution_count": 20,
   "metadata": {},
   "outputs": [
    {
     "data": {
      "image/png": "[encoded data removed]",
      "text/plain": [
       "<Figure size 432x288 with 1 Axes>"
      ]
     },
     "metadata": {
      "needs_background": "light"
     },
     "output_type": "display_data"
    }
   ],
   "source": [
    "# Plot the 10000 simulations\n",
    "plt.hist(potentialReturns, bins = 30, density=True)\n",
    "plt.xlabel('Gains/Losses')\n",
    "plt.ylabel('Frequency')\n",
    "plt.title(f'Simulated Portfolio Gains Losses Over {days} Days')\n",
    "plt.axvline(-VaR, color='y', linewidth=2, label=f'VaR (98% confidence)')\n",
    "plt.legend()\n",
    "plt.show()"
   ]
  }
 ],
 "metadata": {
  "kernelspec": {
   "display_name": "Python 3",
   "language": "python",
   "name": "python3"
  },
  "language_info": {
   "codemirror_mode": {
    "name": "ipython",
    "version": 3
   },
   "file_extension": ".py",
   "mimetype": "text/x-python",
   "name": "python",
   "nbconvert_exporter": "python",
   "pygments_lexer": "ipython3",
   "version": "3.8.3"
  }
 },
 "nbformat": 4,
 "nbformat_minor": 4
}
